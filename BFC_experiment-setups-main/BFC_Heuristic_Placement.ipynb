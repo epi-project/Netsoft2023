{
 "cells": [
  {
   "cell_type": "code",
   "execution_count": 1,
   "metadata": {},
   "outputs": [
    {
     "data": {
      "text/html": [
       "<h1>The graph initialisation</h1>"
      ],
      "text/plain": [
       "<IPython.core.display.HTML object>"
      ]
     },
     "execution_count": 1,
     "metadata": {},
     "output_type": "execute_result"
    }
   ],
   "source": [
    "from IPython.display import HTML\n",
    "HTML(\"<h1>The graph initialisation</h1>\")"
   ]
  },
  {
   "cell_type": "code",
   "execution_count": 62,
   "metadata": {},
   "outputs": [],
   "source": [
    "G = {\"cluster1-cntx\":[\"cluster1-cntx\",\"cluster2-cntx\"], \"cluster2-cntx\":[\"cluster2-cntx\",\"cluster1-cntx\"]}#, \"cluster3-cntx\":[\"cluster3-cntx\"]}\n",
    "link_latency = {\"cluster1-cntx\":{\"cluster1-cntx\":0, \"cluster2-cntx\":10},\"cluster2-cntx\":{\"cluster2-cntx\":0, \"cluster1-cntx\":10}}\n",
    "                                 \n",
    "bf = {\"firewall\":{\"firewalls\":10, \"firewallm\":5, \"firewalll\":1}, \"encrypt\":{\"encrypts\":10, \"encryptm\":5, \"encryptl\":1}, \"decrypt\":{\"decrypts\":10, \"decryptm\":5, \"decryptl\":1}}\n",
    "\n",
    "#G = {\"cluster1-cntx\":[\"cluster1-cntx\", \"cluster2-cntx\"], \"cluster2-cntx\":[\"cluster2-cntx\", \"cluster1-cntx\"]}\n",
    "#link_latency = {\"cluster1-cntx\":{\"cluster1-cntx\":0, \"cluster2-cntx\":10, \"cluster3-cntx\":1000},\"cluster2-cntx\":{\"cluster2-cntx\":0, \"cluster1-cntx\":10, \"cluster3-cntx\":1000}, \"cluster3-cntx\":{\"cluster3-cntx\":0, \"cluster1-cntx\":1000,\"cluster2-cntx\":1000}}\n"
   ]
  },
  {
   "cell_type": "code",
   "execution_count": 63,
   "metadata": {},
   "outputs": [],
   "source": [
    "#To generate different usecases under different requests \n",
    "\n",
    "G_req1 = {\"encrypt\":[\"firewall\"], \"firewall\":[\"encrypt\", \"decrypt\"], \"decrypt\":[\"firewall\"]}\n",
    "G_req2 = {\"firewall\":[\"encrypt\"], \"encrypt\":[\"firewall\", \"decrypt\"], \"decrypt\":[\"encrypt\"]}\n",
    "G_req3 = {\"encrypt\":[\"decrypt\"], \"decrypt\":[\"encrypt\"]}\n",
    "G_req4 = {\"encrypt\":[\"firewall\"], \"firewall\":[\"encrypt\"]}\n",
    "G_req5 = {\"firewall\":[\"firewall\"]}\n",
    "G_req6 = {\"encrypt\":[\"encrypt\"]}\n",
    "\n",
    "usecase = {\"EHR:1C:E-F-D\":{\"firewall\":30,\"encrypt\": 20, \"decrypt\":10, \"SLA\":100}, \"EHR:1C:F-E-D\":{\"firewall\":40, \"encrypt\": 10, \"decrypt\": 10, \"SLA\": 100}, \"EHR:1C:E-D\":{\"encrypt\": 20, \"decrypt\":20, \"SLA\":100}, \"EHR:1C:E-F\":{\"firewall\":30,\"encrypt\": 20, \"SLA\":100}, \"EHR:1C:E\":{\"encrypt\": 20, \"SLA\":100}, \"EHR:1C:F\":{\"firewall\":40, \"SLA\":100}, \"EHR:10C:E-F-D\":{\"firewall\":130,\"encrypt\": 80, \"decrypt\":20, \"SLA\":100}, \"EHR:10C:E\":{\"encrypt\": 80, \"SLA\":100}, \"EHR:10C:F-E-D\":{\"firewall\":160, \"encrypt\": 20, \"decrypt\":20, \"SLA\":100},\"EHR:10C:E-D\":{\"encrypt\": 80, \"decrypt\":80, \"SLA\":100}, \"EHR:10C:E-F\":{\"firewall\":130,\"encrypt\": 80, \"SLA\":100}, \"EHR:10C:F\":{\"firewall\":160,\"SLA\":100}, \"STREAM:1C:E-F-D\":{\"firewall\":130,\"encrypt\": 80, \"decrypt\":25, \"SLA\":10}, \"STREAM:1C:F-E-D\":{\"firewall\":180,\"encrypt\": 25, \"decrypt\": 25, \"SLA\": 10}, \"STREAM:1C:E-D\":{\"encrypt\": 80, \"decrypt\":80, \"SLA\":10}, \"STREAM:1C:E-F\":{\"firewall\":130,\"encrypt\": 80, \"SLA\":10}, \"STREAM:1C:F\":{\"firewall\":180, \"SLA\":10}, \"STREAM:10C:E-F-D\":{\"firewall\":300,\"encrypt\": 150, \"decrypt\":40, \"SLA\":10}, \"STREAM:10C:F-E-D\":{\"firewall\":350, \"encrypt\": 40, \"decrypt\":40, \"SLA\":10},\"STREAM:10C:E-D\":{\"encrypt\": 150, \"decrypt\":150, \"SLA\":10}, \"STREAM:10C:E-F\":{\"firewall\":300,\"encrypt\": 150, \"SLA\":10}, \"STREAM:10C:F\":{\"firewall\":350,\"SLA\":10}, \"ALGO:1C:E-F-D\":{\"firewall\":30,\"encrypt\": 20, \"decrypt\":10, \"SLA\":100}, \"ALGO:1C:F-E-D\":{\"firewall\":40,\"encrypt\": 10, \"decrypt\": 10, \"SLA\": 100}, \"ALGO:1C:E-D\":{\"encrypt\": 20, \"decrypt\":20, \"SLA\":100}, \"ALGO:1C:E-F\":{\"firewall\":30,\"encrypt\": 20, \"SLA\":100}, \"ALGO:1C:F\":{\"firewall\":40, \"SLA\":100}, \"ALGO:10C:E-F-D\":{\"firewall\":130,\"encrypt\": 80, \"decrypt\":20, \"SLA\":100}, \"ALGO:10C:F-E-D\":{\"firewall\":160, \"encrypt\": 20, \"decrypt\":20, \"SLA\":100},\"ALGO:10C:E-D\":{\"encrypt\": 80, \"decrypt\":80, \"SLA\":100}, \"ALGO:10C:E-F\":{\"firewall\":130,\"encrypt\": 80, \"SLA\":100}, \"ALGO:10C:F\":{\"firewall\":160,\"SLA\":100}}\n",
    "\n"
   ]
  },
  {
   "cell_type": "code",
   "execution_count": 64,
   "metadata": {},
   "outputs": [
    {
     "data": {
      "text/plain": [
       "{'encrypt': 20, 'SLA': 100}"
      ]
     },
     "execution_count": 64,
     "metadata": {},
     "output_type": "execute_result"
    }
   ],
   "source": [
    "#G_req = {\"firewall\":[\"encrypt\"], \"encrypt\":[\"firewall\"]}#, \"decrypt\":[\"firewall\"]}\n",
    "#usecase = {1:{\"firewall\":300,\"encrypt\": 300, \"decrypt\":300, \"SLA\":10}, 2:{\"firewall\":100,\"encrypt\": 100}, \"SLA\": 100}\n",
    "#u =1\n",
    "u = \"EHR:1C:E\"\n",
    "G_req=G_req6\n",
    "proxy=\"proxy4\"\n",
    "\n",
    "usecase[u]"
   ]
  },
  {
   "cell_type": "code",
   "execution_count": 65,
   "metadata": {},
   "outputs": [
    {
     "data": {
      "text/plain": [
       "['cluster1-cntx', 'cluster2-cntx']"
      ]
     },
     "execution_count": 65,
     "metadata": {},
     "output_type": "execute_result"
    }
   ],
   "source": [
    "G[\"cluster1-cntx\"]"
   ]
  },
  {
   "cell_type": "code",
   "execution_count": 66,
   "metadata": {},
   "outputs": [
    {
     "data": {
      "text/html": [
       "<h1>The graph illustration</h1>"
      ],
      "text/plain": [
       "<IPython.core.display.HTML object>"
      ]
     },
     "execution_count": 66,
     "metadata": {},
     "output_type": "execute_result"
    }
   ],
   "source": [
    "from IPython.display import HTML\n",
    "HTML(\"<h1>The graph illustration</h1>\")"
   ]
  },
  {
   "cell_type": "code",
   "execution_count": 67,
   "metadata": {},
   "outputs": [
    {
     "data": {
      "image/png": "[encoded data removed]",
      "text/plain": [
       "<Figure size 432x288 with 1 Axes>"
      ]
     },
     "metadata": {},
     "output_type": "display_data"
    }
   ],
   "source": [
    "import networkx as nx\n",
    "import numpy as np\n",
    "import matplotlib.pyplot as plt\n",
    "import pylab\n",
    "\n",
    "def draw(G):\n",
    "    infra = nx.DiGraph()\n",
    " #   for cl in range(len(G)):\n",
    " #       i = list(G.keys())[cl]\n",
    " #       infra.add_node(i)\n",
    "    for cl in range(len(G)):\n",
    "        i = list(G.keys())[cl]\n",
    "        for link in range(len(G[i])):\n",
    "            infra.add_edges_from([(i, G[i][link])], weight=link_latency[i][G[i][link]])\n",
    "    edge_labels=dict([((u,v,),d['weight'])\n",
    "                 for u,v,d in infra.edges(data=True)])\n",
    "\n",
    "\n",
    "    pos = nx.spring_layout(infra)\n",
    "    nx.draw_networkx_edge_labels(infra,pos,edge_labels=edge_labels)\n",
    "    nx.draw_networkx_labels(infra, pos)\n",
    "    #plt.figure(figsize=(8,8))\n",
    "    \n",
    "    nx.draw(infra, pos=pos, with_labels=True)\n",
    "    plt.show()\n",
    "    \n",
    "\n",
    "draw(G)"
   ]
  },
  {
   "cell_type": "code",
   "execution_count": 69,
   "metadata": {},
   "outputs": [
    {
     "data": {
      "text/plain": [
       "0"
      ]
     },
     "execution_count": 69,
     "metadata": {},
     "output_type": "execute_result"
    }
   ],
   "source": [
    "#The number of running pods of a microservice on each cluster\n",
    "import os\n",
    "def runningPods(cluster, app_name): \n",
    "    output = os.popen('sudo kubectl top pod --context=' + cluster).read()\n",
    "    lines = output.split(\"\\n\")\n",
    "    numPods = 0\n",
    "    which_app = len(app_name)\n",
    "    for line in lines[:-1]:\n",
    "        items = line.split()\n",
    "        if len(items[0]) > 8 and items[0][:which_app] == app_name:\n",
    "            numPods += 1\n",
    "    return numPods\n",
    "runningPods(\"cluster1-cntx\",\"encrypt\")"
   ]
  },
  {
   "cell_type": "code",
   "execution_count": 70,
   "metadata": {},
   "outputs": [
    {
     "data": {
      "text/plain": [
       "0"
      ]
     },
     "execution_count": 70,
     "metadata": {},
     "output_type": "execute_result"
    }
   ],
   "source": [
    "#The utilised CPU of a microservice running on a cluster\n",
    "import os\n",
    "def getchar(string, n):\n",
    "    return str(string)[n - 1]\n",
    "def cpuUtilised(cluster, app_name):\n",
    "    output = os.popen('kubectl top pod --context=' + cluster).read()\n",
    "    lines = output.split(\"\\n\")\n",
    "    which_app = len(app_name)\n",
    "    cpu = ''\n",
    "    cpu_u=0\n",
    "    limits=0\n",
    "    for line in lines[:-1]:\n",
    "        items = line.split()\n",
    "        if items[0][:which_app] == app_name:\n",
    "            if getchar(items[0], which_app) == 's':\n",
    "                cpu = items[1]\n",
    "                cpu = cpu[:-1]\n",
    "                cpu = int(cpu)\n",
    "                cpu_u=cpu_u + cpu\n",
    "            if getchar(items[0], which_app) == 'm':\n",
    "                cpu = items[1]\n",
    "                cpu = cpu[:-1]\n",
    "                cpu = int(cpu)\n",
    "                cpu_u=cpu_u + cpu\n",
    "            if getchar(items[0], which_app) == 'l':\n",
    "                cpu = items[1]\n",
    "                cpu = cpu[:-1]\n",
    "                cpu = int(cpu)\n",
    "                cpu_u=cpu_u + cpu\n",
    "\n",
    "        \n",
    "                \n",
    "#    print(limits - cpu_u)\n",
    "    return cpu_u\n",
    "\n",
    "\n",
    "cpuUtilised(\"cluster1-cntx\",\"firewall\"+'s')"
   ]
  },
  {
   "cell_type": "code",
   "execution_count": 71,
   "metadata": {},
   "outputs": [
    {
     "data": {
      "text/plain": [
       "100"
      ]
     },
     "execution_count": 71,
     "metadata": {},
     "output_type": "execute_result"
    }
   ],
   "source": [
    "#The available CPU of a microservice running on a cluster\n",
    "import os\n",
    "def getchar(string, n):\n",
    "    return str(string)[n - 1]\n",
    "def cpuAvail(cluster, app_name):\n",
    "    output = os.popen('kubectl top pod --context=' + cluster).read()\n",
    "    lines = output.split(\"\\n\")\n",
    "    which_app = len(app_name)\n",
    "    cpu = ''\n",
    "    cpu_u=0\n",
    "    limits=0\n",
    "    for line in lines[:-1]:\n",
    "        items = line.split()\n",
    "        if items[0][:which_app] == app_name:\n",
    "            if getchar(items[0], which_app) == 's':\n",
    "                limits = 100\n",
    "                cpu = items[1]\n",
    "                cpu = cpu[:-1]\n",
    "                cpu = int(cpu)\n",
    "                cpu_u=cpu_u + cpu\n",
    "            if getchar(items[0], which_app) == 'm':\n",
    "                limits = 200\n",
    "                cpu = items[1]\n",
    "                cpu = cpu[:-1]\n",
    "                cpu = int(cpu)\n",
    "                cpu_u=cpu_u + cpu\n",
    "            if getchar(items[0], which_app) == 'l':\n",
    "                limits = 500\n",
    "                cpu = items[1]\n",
    "                cpu = cpu[:-1]\n",
    "                cpu = int(cpu)\n",
    "                cpu_u=cpu_u + cpu\n",
    "\n",
    "        \n",
    "                \n",
    "#    print(limits - cpu_u)\n",
    "    return limits - cpu_u\n",
    "\n",
    "\n",
    "cpuAvail(\"cluster1-cntx\",\"firewall\"+'s')\n"
   ]
  },
  {
   "cell_type": "code",
   "execution_count": 11,
   "metadata": {},
   "outputs": [
    {
     "data": {
      "text/plain": [
       "['m']"
      ]
     },
     "execution_count": 11,
     "metadata": {},
     "output_type": "execute_result"
    }
   ],
   "source": [
    "#Which microservice configuration is running: small, medium, or large\n",
    "def getchar(string, n):\n",
    "    return str(string)[n - 1]\n",
    "def whichConf(cluster, app_name):\n",
    "    size = []\n",
    "    output = os.popen('sudo kubectl get services --context=' + cluster).read()\n",
    "    lines = output.split(\"\\n\")\n",
    "    which_app = len(app_name)\n",
    "    for line in lines[:-1]:\n",
    "        items = line.split()\n",
    "        if items[0][:which_app] == app_name:\n",
    "            size.append(getchar(items[0], which_app+1))\n",
    "    #        print(size)\n",
    "    return size\n",
    "whichConf(\"cluster1-cntx\",\"firewall\")\n",
    "    "
   ]
  },
  {
   "cell_type": "code",
   "execution_count": 12,
   "metadata": {},
   "outputs": [
    {
     "data": {
      "text/html": [
       "<h1>Monitor and delete function</h1>"
      ],
      "text/plain": [
       "<IPython.core.display.HTML object>"
      ]
     },
     "execution_count": 12,
     "metadata": {},
     "output_type": "execute_result"
    }
   ],
   "source": [
    "from IPython.display import HTML\n",
    "HTML(\"<h1>Monitor and delete function</h1>\")\n"
   ]
  },
  {
   "cell_type": "code",
   "execution_count": 42,
   "metadata": {},
   "outputs": [
    {
     "name": "stdout",
     "output_type": "stream",
     "text": [
      "thread is starting\n",
      "firewallm timed out\n"
     ]
    }
   ],
   "source": [
    "#This function is terminate services once idle for a time \n",
    "import threading\n",
    "import time\n",
    "import os\n",
    "\n",
    "def deletePod(app_name, timer, cluster):\n",
    "    print(\"thread is starting\")\n",
    "    cpu = 0\n",
    "    timeout = time.time() + timer\n",
    "    while cpu == 0:\n",
    "        cpu= cpuUtilised(cluster, app_name)\n",
    "        if time.time() > timeout:\n",
    "            try:\n",
    "                os.system(\"sudo kubectl delete service \"+ app_name +\" --context=\" + cluster)\n",
    "                os.system(\"sudo kubectl delete deploy \"+ app_name +\" --context=\" + cluster)\n",
    "                print(app_name+ \" timed out\")\n",
    "                break\n",
    "            except:\n",
    "                print(\"Service not found\")\n",
    "                break\n",
    "        \n",
    "def monitorUsage(cluster, timer):\n",
    "    for service in range(len(bf)):\n",
    "        threads = list()\n",
    "        ser = list(bf.keys())[service]\n",
    "        s = whichConf(cluster,ser)\n",
    "        if s != []:\n",
    "            for size in range(len(s)):\n",
    "                app_name=ser+s[size]\n",
    "                x =threading.Thread(target=deletePod, args=(app_name, timer, cluster,))\n",
    "                x.daemon = True\n",
    "                threads.append(x)\n",
    "                x.start()\n",
    "            for x in threads:\n",
    "                x.join()\n",
    "\n",
    "        \n",
    "monitorUsage(\"cluster3-cntx\",10)"
   ]
  },
  {
   "cell_type": "code",
   "execution_count": 26,
   "metadata": {},
   "outputs": [
    {
     "data": {
      "text/plain": [
       "[]"
      ]
     },
     "execution_count": 26,
     "metadata": {},
     "output_type": "execute_result"
    }
   ],
   "source": [
    "#This function orders the running microservies on a cluster increasingly according to proccessing delay\n",
    "def orderService(cluster, app_name):\n",
    "    delay = []\n",
    "    size = whichConf(cluster, app_name)\n",
    "    for s in range(len(size)):\n",
    "        delay.append(bf[app_name][app_name+size[s]])\n",
    "    sorted_delay = [x for _,x in sorted(zip(delay,size))]\n",
    "    return sorted_delay\n",
    " #   print(delay)\n",
    "                \n",
    "    \n",
    "orderService(\"cluster2-cntx\",\"firewall\")\n",
    "    "
   ]
  },
  {
   "cell_type": "code",
   "execution_count": 27,
   "metadata": {},
   "outputs": [
    {
     "data": {
      "text/plain": [
       "':'"
      ]
     },
     "execution_count": 27,
     "metadata": {},
     "output_type": "execute_result"
    }
   ],
   "source": [
    "import os\n",
    "def getIP(cluster, app_name):\n",
    "    output = os.popen('sudo kubectl get pods -o wide --context=' + cluster).read()\n",
    "    lines = output.split(\"\\n\")\n",
    "    serviceIP = ''\n",
    "    port=''\n",
    "    which_app = len(app_name)\n",
    "    for line in lines[:-1]:\n",
    "        items = line.split()\n",
    "        if items[0][:which_app] == app_name:\n",
    "            serviceIP=items[5] \n",
    "    output = os.popen('sudo kubectl get service -o wide --context=' + cluster).read()\n",
    "    lines = output.split(\"\\n\")\n",
    "    which_app = len(app_name)\n",
    "    for line in lines[:-1]:\n",
    "        items = line.split()\n",
    "        if items[0][:which_app] == app_name:\n",
    "            port=items[4][:4]\n",
    "    serviceIP=serviceIP+\":\"+port\n",
    "    return serviceIP\n",
    "getIP(\"cluster2-cntx\",\"firewall\"+\"s\")"
   ]
  },
  {
   "cell_type": "code",
   "execution_count": 94,
   "metadata": {},
   "outputs": [
    {
     "data": {
      "text/plain": [
       "{'cluster2-cntx': ['cluster2-cntx', 'cluster1-cntx'],\n",
       " 'cluster1-cntx': ['cluster1-cntx', 'cluster2-cntx']}"
      ]
     },
     "execution_count": 94,
     "metadata": {},
     "output_type": "execute_result"
    }
   ],
   "source": [
    "#This function orders the available links from source cluster increasingly according to latency\n",
    "def orderlink(cluster):\n",
    "    delay = []\n",
    "    cnx = []\n",
    "    for key in range(len(list(link_latency[cluster].keys()))):\n",
    "        delay.append(link_latency[cluster][list(link_latency[cluster].keys())[key]])\n",
    "        cnx.append(list(link_latency[cluster].keys())[key])\n",
    "    sorted_delay = [x for _,x in sorted(zip(delay,cnx))]\n",
    "    order_cluster = dict.fromkeys(sorted_delay, None)\n",
    "    \n",
    "    for i in range(len(sorted_delay)):\n",
    "        order_cluster[sorted_delay[i]] = G[sorted_delay[i]]\n",
    "        \n",
    "    return order_cluster\n",
    " #   print(delay)\n",
    "                \n",
    "    \n",
    "orderlink(\"cluster2-cntx\")"
   ]
  },
  {
   "cell_type": "code",
   "execution_count": 92,
   "metadata": {},
   "outputs": [
    {
     "data": {
      "text/plain": [
       "{'something': 1}"
      ]
     },
     "execution_count": 92,
     "metadata": {},
     "output_type": "execute_result"
    }
   ],
   "source": [
    "test={\"something\": None}\n",
    "test[\"something\"]= 1\n",
    "test"
   ]
  },
  {
   "cell_type": "code",
   "execution_count": 29,
   "metadata": {},
   "outputs": [
    {
     "data": {
      "text/plain": [
       "3802"
      ]
     },
     "execution_count": 29,
     "metadata": {},
     "output_type": "execute_result"
    }
   ],
   "source": [
    "#Available CPU on a cluster in millicores\n",
    "def clusterCPU(cluster):\n",
    "    cpu=0\n",
    "    cpu_cl=0\n",
    "    nodes=0\n",
    "    output = os.popen('sudo kubectl top nodes --context=' + cluster).read()\n",
    "    lines = output.split(\"\\n\")\n",
    "    for line in lines[:-1]:\n",
    "        items = line.split()\n",
    "        if items[0] != \"NAME\":\n",
    "            cpu = items[1]\n",
    "            cpu = cpu[:-1]\n",
    "            cpu = int(cpu)\n",
    "            cpu_cl = cpu_cl + cpu\n",
    "            nodes=nodes+1\n",
    "    return nodes*2000 - cpu_cl\n",
    "\n",
    "clusterCPU('cluster1-cntx')"
   ]
  },
  {
   "cell_type": "code",
   "execution_count": 30,
   "metadata": {},
   "outputs": [
    {
     "data": {
      "text/plain": [
       "5.5"
      ]
     },
     "execution_count": 30,
     "metadata": {},
     "output_type": "execute_result"
    }
   ],
   "source": [
    "#Available CPU percentage on a cluster in\n",
    "def clusterCPUPerc(cluster):\n",
    "    cpu=0\n",
    "    cpu_cl=0\n",
    "    nodes=0\n",
    "    output = os.popen('sudo kubectl top nodes --context=' + cluster).read()\n",
    "    lines = output.split(\"\\n\")\n",
    "    for line in lines[:-1]:\n",
    "        items = line.split()\n",
    "        if items[0] != \"NAME\":\n",
    "            cpu = items[2]\n",
    "            cpu = cpu[:-1]\n",
    "            cpu = int(cpu)\n",
    "            cpu_cl = cpu_cl + cpu\n",
    "            nodes=nodes+1\n",
    "    #        print(size)\n",
    "    return cpu_cl/nodes\n",
    "\n",
    "clusterCPUPerc('cluster2-cntx')"
   ]
  },
  {
   "cell_type": "code",
   "execution_count": 31,
   "metadata": {},
   "outputs": [
    {
     "data": {
      "text/plain": [
       "1549"
      ]
     },
     "execution_count": 31,
     "metadata": {},
     "output_type": "execute_result"
    }
   ],
   "source": [
    "#Available memory on a cluster in MB\n",
    "def clusterMem(cluster):\n",
    "    mem=0\n",
    "    mem_cl=0\n",
    "    nodes=0\n",
    "    output = os.popen('sudo kubectl top nodes --context=' + cluster).read()\n",
    "    lines = output.split(\"\\n\")\n",
    "    for line in lines[:-1]:\n",
    "        items = line.split()\n",
    "        if items[0] != \"NAME\":\n",
    "            mem = items[3]\n",
    "            mem = mem[:len(mem)-2]\n",
    "            nodes=nodes+1\n",
    "            mem = int(mem)\n",
    "            mem_cl = mem_cl + mem\n",
    "    #print(nodes)\n",
    "    #print(mem_cl)\n",
    "    return nodes*1915 - mem_cl\n",
    "\n",
    "clusterMem('cluster2-cntx')"
   ]
  },
  {
   "cell_type": "code",
   "execution_count": 32,
   "metadata": {},
   "outputs": [
    {
     "data": {
      "text/html": [
       "<h1>Place and Assign new mircroservice to requests</h1>"
      ],
      "text/plain": [
       "<IPython.core.display.HTML object>"
      ]
     },
     "execution_count": 32,
     "metadata": {},
     "output_type": "execute_result"
    }
   ],
   "source": [
    "from IPython.display import HTML\n",
    "HTML(\"<h1>Place and Assign new mircroservice to requests</h1>\")"
   ]
  },
  {
   "cell_type": "code",
   "execution_count": 33,
   "metadata": {},
   "outputs": [],
   "source": [
    "def place(i, q, s):\n",
    "#    i = 'cluster2-cntx'\n",
    "    if s == 's':\n",
    "        os.system('sudo kubectl apply -f ~/SOCKS-deployement/'+q+'-S.yaml --context=' + i)\n",
    "    elif s == 'm':\n",
    "        os.system('sudo kubectl apply -f ~/SOCKS-deployement/'+q+'-M.yaml --context=' + i)\n",
    "    elif s == 'l':\n",
    "        os.system('sudo kubectl apply -f ~/SOCKS-deployement/'+q+'-L.yaml --context=' + i)\n",
    "    "
   ]
  },
  {
   "cell_type": "code",
   "execution_count": 34,
   "metadata": {},
   "outputs": [],
   "source": [
    "def assignService(i, q, usecase_s, u):\n",
    "#    req = 1\n",
    "#    cl = 1\n",
    "    proxy_conf='' \n",
    "    size=[]\n",
    "    avail=0\n",
    "    cpu_q= usecase_s[u][q]\n",
    "    r = runningPods(i, q)\n",
    "    if r >= 1: #there's a function already running on this cluster \n",
    "        size = orderService(i,q) #which function size is running? order by delay\n",
    "        for s in range(len(size)): \n",
    "            avail = cpuAvail(i, q+size[s]) #the available CPU depends on the service configuration\n",
    "            if avail > cpu_q: #if the available resources > profiled resources requested \n",
    "                proxy_conf=getIP(i,q+size[s]) #then get IP to assign the service to proxy\n",
    "                break\n",
    "    elif r ==0 : #no service running \n",
    "        proxy_conf=''          \n",
    "    #print(proxy_conf)\n",
    "    return proxy_conf\n",
    "\n",
    "def newService(i,q, usecase_s, u):\n",
    "    proxy_conf=''\n",
    "    cpu_q= usecase_s[u][q]\n",
    "    r = runningPods(i, q)\n",
    "    if 600 > cpu_q and runningPods(i, q+'s') == 0 and 600 < clusterCPU(i): #deploy new small service\n",
    "        place(i,q,'s')\n",
    "        proxy_conf=getIP(i,q+'s')       \n",
    "    elif 5*600 > cpu_q and runningPods(i, q+'m')==0 and 5*600 < clusterCPU(i): #deploy new medium service\n",
    "        proxy_conf=getIP(i,q+'m')\n",
    "        proxy_conf=getIP(i,q+'m')\n",
    "    elif 10*600 > cpu_q and runningPods(i, q+'l')==0 and 10*600 < clusterCPU(i): #deploy new large service\n",
    "        proxy_conf=getIP(i,q+'l')\n",
    "        proxy_conf=getIP(i,q+'l')\n",
    "  #  elif proxy_conf=='':\n",
    "  #      print(\"placement failed\")\n",
    "        \n",
    "    \n",
    "    #print(proxy_conf)\n",
    "    return proxy_conf"
   ]
  },
  {
   "cell_type": "code",
   "execution_count": 53,
   "metadata": {},
   "outputs": [
    {
     "data": {
      "text/plain": [
       "['cluster2-cntx']"
      ]
     },
     "execution_count": 53,
     "metadata": {},
     "output_type": "execute_result"
    }
   ],
   "source": [
    "#Returns the lists of clusters on which a microservice type is running\n",
    "def checkdeploy(app_name):\n",
    "    cl = 0\n",
    "    p=0\n",
    "    cluster=[]\n",
    "    while p == 0:\n",
    "        for cl in range(len(G)):\n",
    "            i = list(G.keys())[cl]\n",
    "            output = os.popen('sudo kubectl get services --context=' +i).read()\n",
    "            lines = output.split(\"\\n\")\n",
    "            which_app = len(app_name)\n",
    "            for line in lines[:-1]:\n",
    "                items = line.split()\n",
    "                if items[0][:which_app] == app_name:\n",
    "                    cluster.append(i)\n",
    "                    p=1\n",
    "                    \n",
    "    return cluster\n",
    "checkdeploy(\"proxy4\")            "
   ]
  },
  {
   "cell_type": "code",
   "execution_count": null,
   "metadata": {},
   "outputs": [],
   "source": []
  },
  {
   "cell_type": "code",
   "execution_count": 52,
   "metadata": {},
   "outputs": [
    {
     "name": "stdout",
     "output_type": "stream",
     "text": [
      "\n"
     ]
    }
   ],
   "source": [
    "def proxyConfig(IP, proxy):\n",
    "    newChain = []\n",
    "    for ip in range(len(IP)):\n",
    "        newChain.append('\"-c\",'+'\"socks6://'+IP[ip]+'\",')\n",
    "    newChain = ''.join(newChain)\n",
    "    newChain = newChain[:-1]\n",
    "    print(newChain)\n",
    "    os.system(\"sudo kubectl patch deployment \"+ proxy +\" --namespace default --type='json' -p='[{'op': 'replace', 'path': '/spec/template/spec/containers/0/args', 'value': [\"+newChain+\"]}]'\"+\" --context=\"+checkdeploy(proxy)[0])\n",
    "    \n",
    "proxyConfig(\"\", \"proxy0\")"
   ]
  },
  {
   "cell_type": "code",
   "execution_count": 81,
   "metadata": {},
   "outputs": [
    {
     "data": {
      "text/plain": [
       "['cluster2-cntx']"
      ]
     },
     "execution_count": 81,
     "metadata": {},
     "output_type": "execute_result"
    }
   ],
   "source": [
    "checkdeploy(\"proxy4\")"
   ]
  },
  {
   "cell_type": "code",
   "execution_count": 100,
   "metadata": {},
   "outputs": [
    {
     "name": "stdout",
     "output_type": "stream",
     "text": [
      "{'cluster2-cntx': ['cluster2-cntx', 'cluster1-cntx'], 'cluster1-cntx': ['cluster1-cntx', 'cluster2-cntx']}\n",
      "cluster2-cntx\n",
      "cluster1-cntx\n"
     ]
    }
   ],
   "source": [
    "OG = orderlink(checkdeploy(\"proxy4\")[0])\n",
    "print(OG)\n",
    "for cl in range(len(OG)): #go over clusters \n",
    "    i = list(OG.keys())[cl]\n",
    "    print(i)\n"
   ]
  },
  {
   "cell_type": "code",
   "execution_count": 102,
   "metadata": {},
   "outputs": [
    {
     "name": "stdout",
     "output_type": "stream",
     "text": [
      "cluster2-cntx\n",
      "cluster1-cntx\n",
      "\"-c\",\"socks6://10.0.0.21:1080\"\n",
      "['10.0.0.21:1080']\n",
      "['encrypt']\n"
     ]
    }
   ],
   "source": [
    "def main(proxy, G_req, u):\n",
    "    IPs = []\n",
    "    m_cl= ''\n",
    "    m_ser=[]\n",
    "    proxy_idx=proxy\n",
    "    startingCluster = checkdeploy(proxy_idx)[0]\n",
    "    OG = orderlink(startingCluster) #try the fastest link first\n",
    "    for cl in range(len(OG)): #go over clusters \n",
    "        i = list(OG.keys())[cl]\n",
    "        print(i)\n",
    "        for req in range(len(G_req)):\n",
    "            q = list(G_req.keys())[req] #go over functions to deploy\n",
    "            if req == 0 and q not in m_ser: #The first function can be deployed on any cluster\n",
    "                if assignService(i,q, usecase, u) != \"\": #there is atleast one good candidate service running on i \n",
    "                    IPs.append(assignService(i,q, usecase, u))\n",
    "                    m_cl= i #to check connection with next deployment\n",
    "                    m_ser.append(q)\n",
    "                    continue                \n",
    "            elif m_cl in G[i] and q not in m_ser: #connection with previous bf and not already deployed\n",
    "                if assignService(i,q, usecase, u) != \"\": #can be deployed\n",
    "                    IPs.append(assignService(i,q, usecase, u))\n",
    "                    m_cl= i\n",
    "                    m_ser.append(q)\n",
    "                    continue\n",
    "        if len(m_ser) < len(G_req): #not all deployed yet we try a different cluster      \n",
    "            continue \n",
    "        else:\n",
    "            break\n",
    "    if len(m_ser) < len(G_req): #not all functions could be deployed \n",
    "        for cl in range(len(OG)): #go over clusters \n",
    "            i = list(OG.keys())[cl]\n",
    "            for req in range(len(G_req)):\n",
    "                q = list(G_req.keys())[req] #go over functions to deploy\n",
    "                if req == 0 and q not in m_ser:\n",
    "                    if newService(i,q, usecase,u ) != '':\n",
    "                        IPs.append(newService(i,q, usecase, u))\n",
    "                        m_cl= i\n",
    "                        m_ser.append(q)\n",
    "                        continue\n",
    "                elif m_cl in G[i] and q not in m_ser: #connection with previous bf and not already deployed\n",
    "                        if newService(i,q, usecase, u) != '':\n",
    "                            IPs.append(newService(i,q, usecase, u))\n",
    "                            m_cl= i\n",
    "                            m_ser.append(q)\n",
    "                            continue\n",
    " #   if len(m_ser) == len(G_req):\n",
    " #       success = 1\n",
    " #       return success\n",
    " #   else: \n",
    " #       success =0\n",
    "        \n",
    "    time.sleep(15)   \n",
    "    proxyConfig(IPs, proxy)\n",
    "    print(IPs)\n",
    "    print(m_ser)\n",
    "    \n",
    "main(proxy, G_req, u)"
   ]
  },
  {
   "cell_type": "code",
   "execution_count": 26,
   "metadata": {},
   "outputs": [
    {
     "data": {
      "text/html": [
       "<h1>Deploy and monitor microservices</h1>"
      ],
      "text/plain": [
       "<IPython.core.display.HTML object>"
      ]
     },
     "execution_count": 26,
     "metadata": {},
     "output_type": "execute_result"
    }
   ],
   "source": [
    "from IPython.display import HTML\n",
    "HTML(\"<h1>Deploy and monitor microservices</h1>\")"
   ]
  },
  {
   "cell_type": "code",
   "execution_count": null,
   "metadata": {},
   "outputs": [],
   "source": [
    "threads = list()\n",
    "x =ThreadWithResult(target=main)\n",
    "x.daemon = True\n",
    "x.start()\n",
    "threads.append(x)\n",
    "for cl in range(len(G)): #go over clusters \n",
    "        i = list(G.keys())[cl]\n",
    "        x = ThreadWithResult(target=monitorUsage, args=(i,5, ))\n",
    "        x.daemon = True\n",
    "        threads.append(x)\n",
    "        x.start()\n",
    "for x in threads:\n",
    "    x.join()\n",
    "    print(x.result)"
   ]
  },
  {
   "cell_type": "code",
   "execution_count": null,
   "metadata": {},
   "outputs": [],
   "source": [
    "from IPython.display import HTML\n",
    "HTML(\"<h1>Running requests</h1>\")"
   ]
  },
  {
   "cell_type": "code",
   "execution_count": 119,
   "metadata": {},
   "outputs": [],
   "source": [
    "\n",
    "\n",
    "#whichGreq(u):\n",
    "#    return G_req\n",
    "\n",
    "#selectRandomu():\n",
    "#    random(u ) #every 1 min until 10 Greq\n",
    "#    main()\n",
    "#    calculate req"
   ]
  },
  {
   "cell_type": "code",
   "execution_count": null,
   "metadata": {},
   "outputs": [],
   "source": []
  }
 ],
 "metadata": {
  "kernelspec": {
   "display_name": "Python 3",
   "language": "python",
   "name": "python3"
  },
  "language_info": {
   "codemirror_mode": {
    "name": "ipython",
    "version": 3
   },
   "file_extension": ".py",
   "mimetype": "text/x-python",
   "name": "python",
   "nbconvert_exporter": "python",
   "pygments_lexer": "ipython3",
   "version": "3.6.9"
  }
 },
 "nbformat": 4,
 "nbformat_minor": 5
}
