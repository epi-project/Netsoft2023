{
 "cells": [
  {
   "cell_type": "code",
   "execution_count": 1,
   "metadata": {},
   "outputs": [],
   "source": [
    "import requests\n",
    "import time\n",
    "import datetime\n",
    "def query_latency(proxy):\n",
    "    if proxy == \"proxy1\":\n",
    "        latency_endpoint = 'http://145.100.135.43:6088/latency'\n",
    "    elif proxy == \"proxy2\":\n",
    "        latency_endpoint = 'http://145.100.135.43:6089/latency'\n",
    "    elif proxy == \"proxy3\":\n",
    "        latency_endpoint = 'http://145.100.135.43:6090/latency'\n",
    "    elif proxy == \"proxy4\":\n",
    "        latency_endpoint = 'http://145.100.135.43:6091/latency'\n",
    "    elif proxy == \"proxy5\":\n",
    "        latency_endpoint = 'http://145.100.135.43:6092/latency'\n",
    "    elif proxy == \"proxy0\":\n",
    "        latency_endpoint = 'http://145.100.135.43:6099/latency'       \n",
    "    response = requests.get(latency_endpoint)\n",
    "    results = response.json()\n",
    "    if results:\n",
    "        return results\n",
    "    else:\n",
    "        return float('NaN')"
   ]
  },
  {
   "cell_type": "code",
   "execution_count": 2,
   "metadata": {},
   "outputs": [],
   "source": [
    "#u = \"EHR:1C:E-F-D\"\n",
    "#G_req=\"G_req2\"\n",
    "\n",
    "import time\n",
    "def latency_collector(queries, proxy, a):\n",
    "\n",
    "    for q in range(queries):\n",
    "        with open(proxy+'latency.csv', 'a') as f:     \n",
    "            b = datetime.datetime.now()\n",
    "            c = b - a\n",
    "            latency = query_latency(proxy)\n",
    "            f.write('{},{}'.format(c.seconds, latency) + '\\n')\n",
    "            time.sleep(5)\n",
    "    a = datetime.datetime.now()\n",
    "    return a\n",
    "\n",
    "#latency_collector(G_req, 10, u, proxy)"
   ]
  },
  {
   "cell_type": "code",
   "execution_count": 70,
   "metadata": {},
   "outputs": [
    {
     "name": "stdout",
     "output_type": "stream",
     "text": [
      "Mean of your_column_number :             0.495516015311419\n"
     ]
    },
    {
     "data": {
      "text/plain": [
       "0.495516015311419"
      ]
     },
     "execution_count": 70,
     "metadata": {},
     "output_type": "execute_result"
    }
   ],
   "source": [
    "def latency_mean(directory):\n",
    "    import numpy as np\n",
    "    import csv\n",
    "    readdata = csv.reader(open(directory, 'r'))\n",
    "    data = []\n",
    "    for row in readdata:\n",
    "        data.append(row)\n",
    "        #incase you have a header/title in the first row of your csv file, do the next line else skip it\n",
    "    data.pop(0) \n",
    "    q1 = []  \n",
    "    for i in range(len(data)):\n",
    "        q1.append(float(data[i][1]))\n",
    "    \n",
    "    print ('Mean of your_column_number :            ', (np.mean(q1)))\n",
    "    return (np.mean(q1))\n",
    "latency_mean(\"./latency/proxy0latency.csv\")"
   ]
  },
  {
   "cell_type": "code",
   "execution_count": 3,
   "metadata": {},
   "outputs": [],
   "source": [
    "import threading\n",
    "class ThreadWithResult(threading.Thread):\n",
    "    def __init__(self, group=None, target=None, name=None, args=(), kwargs={}, *, daemon=None):\n",
    "        def function():\n",
    "            self.result = target(*args, **kwargs)\n",
    "        super().__init__(group=group, target=function, name=name, daemon=daemon)\n",
    "\n",
    "threads = list()\n",
    "proxies=[\"proxy1\", \"proxy0\", \"proxy4\"] #, \"proxy2\", \"proxy3\", \"proxy4\", \"proxy5\"]\n",
    "a = datetime.datetime.now()\n",
    "for cl in range(len(proxies)): #go over proxies\n",
    "        i = proxies[cl]\n",
    "        x = ThreadWithResult(target=latency_collector, args=(10, i, a))\n",
    "        x.daemon = True\n",
    "        threads.append(x)\n",
    "        x.start()\n",
    "for x in threads:\n",
    "    x.join()\n",
    "#    a= x.result\n",
    "###threads = list()\n",
    "###proxies=[\"proxy1\", \"proxy0\", \"proxy2\"]#, \"proxy3\", \"proxy4\", \"proxy5\"]\n",
    "###for cl in range(len(proxies)): #go over proxies\n",
    "###        i = proxies[cl]\n",
    "##        x = ThreadWithResult(target=latency_collector, args=(10, i, a))\n",
    "###        x.daemon = True\n",
    "###        threads.append(x)\n",
    "###        x.start()\n",
    "###for x in threads:\n",
    "###    x.join()\n",
    "#    a= x.result\n",
    "####proxies=[\"proxy1\", \"proxy0\", \"proxy2\"]#, \"proxy3\", \"proxy4\", \"proxy5\"]\n",
    "##for cl in range(len(proxies)): #go over proxies\n",
    "###        i = proxies[cl]\n",
    "###        x = ThreadWithResult(target=latency_collector, args=(10, i, a))\n",
    "###        x.daemon = True\n",
    "###        threads.append(x)\n",
    "###        x.start()\n",
    "###for x in threads:\n",
    "###    x.join()\n",
    "#    a= x.result\n",
    "###proxies=[\"proxy1\", \"proxy0\", \"proxy2\", \"proxy3\"]#, \"proxy4\", \"proxy5\"]\n",
    "###for cl in range(len(proxies)): #go over proxies\n",
    "###        i = proxies[cl]\n",
    "###        x = ThreadWithResult(target=latency_collector, args=(10, i, a))\n",
    "###        x.daemon = True\n",
    "###        threads.append(x)\n",
    "###        x.start()\n",
    "##for x in threads:\n",
    "###    x.join()\n",
    "#    a= x.result\n",
    "###proxies=[\"proxy1\", \"proxy0\", \"proxy2\", \"proxy3\", \"proxy4\"]#, \"proxy5\"]\n",
    "###for cl in range(len(proxies)): #go over proxies\n",
    "###        i = proxies[cl]\n",
    "###        x = ThreadWithResult(target=latency_collector, args=(10, i, a))\n",
    "###        x.daemon = True\n",
    "###        threads.append(x)\n",
    "###        x.start()\n",
    "###for x in threads:\n",
    "##    x.join()\n",
    "#    a= x.result\n",
    "    \n",
    "###proxies=[\"proxy1\", \"proxy0\", \"proxy2\", \"proxy3\", \"proxy4\", \"proxy5\"]\n",
    "###for cl in range(len(proxies)): #go over proxies\n",
    "##        i = proxies[cl]\n",
    "###        x = ThreadWithResult(target=latency_collector, args=(10, i, a))\n",
    "##        x.daemon = True\n",
    "##        threads.append(x)\n",
    "##        x.start()\n",
    "##for x in threads:\n",
    "##    x.join()\n",
    "#    a= x.result    \n"
   ]
  },
  {
   "cell_type": "code",
   "execution_count": 75,
   "metadata": {},
   "outputs": [
    {
     "name": "stdout",
     "output_type": "stream",
     "text": [
      "Mean of your_column_number :             0.49994941134201853\n",
      "Mean of your_column_number :             0.516357631518923\n",
      "Mean of your_column_number :             0.5041403308206674\n",
      "Mean of your_column_number :             0.4989065982527652\n",
      "Mean of your_column_number :             0.495516015311419\n",
      "Mean of your_column_number :             0.5122545030381944\n"
     ]
    },
    {
     "data": {
      "image/png": "[encoded data removed]",
      "text/plain": [
       "<Figure size 432x288 with 1 Axes>"
      ]
     },
     "metadata": {
      "needs_background": "light"
     },
     "output_type": "display_data"
    }
   ],
   "source": [
    "import os\n",
    "import pandas as pd\n",
    "import matplotlib.pyplot as plt\n",
    "import numpy as np\n",
    "### Set your path to the folder containing the .csv files\n",
    "PATH = './latency/' # Use your path\n",
    "average=[]\n",
    "clients=[1,10,20,30,50,100]\n",
    "xpoints = np.array(clients)\n",
    "### Fetch all files in path\n",
    "fileNames = os.listdir(PATH)\n",
    "\n",
    "### Filter file name list for files ending with .csv\n",
    "fileNames = [file for file in fileNames if '.csv' in file]\n",
    "\n",
    "### Loop over all files\n",
    "for file in fileNames:\n",
    "    average.append(latency_mean(PATH + file))\n",
    "    ### Read .csv file and append to list\n",
    "ypoints=np.array(average)\n",
    "###df = pd.read_csv(PATH + file, index_col = 0)\n",
    "    \n",
    "\n",
    "    ### Create line for every file\n",
    "    ##plt.plot(df, label=file)\n",
    "plt.plot(xpoints, ypoints)\n",
    "##plt.legend()\n",
    "#plt.vlines(x=59, ymin=0.4, ymax=0.7, color='r', label='new request')\n",
    "#plt.vlines(x=179, ymin=0.4, ymax=0.7, color='r', label='new request')\n",
    "#plt.vlines(x=239, ymin=0.4, ymax=0.7, color='r', label='new request')\n",
    "#plt.vlines(x=299, ymin=0.4, ymax=0.7, color='r', label='new request')\n",
    "### Generate the plot\n",
    "plt.show()"
   ]
  },
  {
   "cell_type": "code",
   "execution_count": 2,
   "metadata": {},
   "outputs": [],
   "source": [
    "G = {\"cluster1-cntx\":[\"cluster1-cntx\",\"cluster2-cntx\"], \"cluster2-cntx\":[\"cluster2-cntx\",\"cluster1-cntx\"], \"cluster3-cntx\":[\"cluster3-cntx\"]}                                 \n",
    "bf = {\"firewall\":{\"firewalls\":10, \"firewallm\":5, \"firewalll\":1}, \"encrypt\":{\"encrypts\":10, \"encryptm\":5, \"encryptl\":1}, \"decrypt\":{\"decrypts\":10, \"decryptm\":5, \"decryptl\":1}}\n"
   ]
  },
  {
   "cell_type": "code",
   "execution_count": 3,
   "metadata": {},
   "outputs": [
    {
     "data": {
      "text/plain": [
       "'firewall'"
      ]
     },
     "execution_count": 3,
     "metadata": {},
     "output_type": "execute_result"
    }
   ],
   "source": [
    "list(bf.keys())[0]"
   ]
  },
  {
   "cell_type": "code",
   "execution_count": 54,
   "metadata": {},
   "outputs": [
    {
     "data": {
      "text/plain": [
       "1"
      ]
     },
     "execution_count": 54,
     "metadata": {},
     "output_type": "execute_result"
    }
   ],
   "source": [
    "import os\n",
    "def runningPods(cluster, app_name): \n",
    "    output = os.popen('sudo kubectl top pod --context=' + cluster).read()\n",
    "    lines = output.split(\"\\n\")\n",
    "    numPods = 0\n",
    "    which_app = len(app_name)\n",
    "    for line in lines[:-1]:\n",
    "        items = line.split()\n",
    "        if items[0][:which_app] == app_name:\n",
    "            if items[0][which_app] == 's':\n",
    "                numPods += 1\n",
    "            if items[0][which_app]== 'm':\n",
    "                numPods += 3\n",
    "            if items[0][which_app] == 'l':\n",
    "                numPods += 5\n",
    "        \n",
    "    return numPods\n",
    "runningPods(\"cluster1-cntx\",\"firewall\")"
   ]
  },
  {
   "cell_type": "code",
   "execution_count": 55,
   "metadata": {},
   "outputs": [
    {
     "data": {
      "text/plain": [
       "0"
      ]
     },
     "execution_count": 55,
     "metadata": {},
     "output_type": "execute_result"
    }
   ],
   "source": [
    "import os\n",
    "def getchar(string, n):\n",
    "    return str(string)[n - 1]\n",
    "def cpuUtilised(cluster, app_name):\n",
    "    output = os.popen('kubectl top pod --context=' + cluster).read()\n",
    "    lines = output.split(\"\\n\")\n",
    "    which_app = len(app_name)\n",
    "    cpu = ''\n",
    "    cpu_u=0\n",
    "    limits=0\n",
    "    for line in lines[:-1]:\n",
    "        items = line.split()\n",
    "        if items[0][:which_app] == app_name:\n",
    "            if getchar(items[0], which_app) == 's':\n",
    "                cpu = items[1]\n",
    "                cpu = cpu[:-1]\n",
    "                cpu = int(cpu)\n",
    "                cpu_u=cpu_u + cpu\n",
    "            if getchar(items[0], which_app) == 'm':\n",
    "                cpu = items[1]\n",
    "                cpu = cpu[:-1]\n",
    "                cpu = int(cpu)\n",
    "                cpu_u=cpu_u + cpu\n",
    "            if getchar(items[0], which_app) == 'l':\n",
    "                cpu = items[1]\n",
    "                cpu = cpu[:-1]\n",
    "                cpu = int(cpu)\n",
    "                cpu_u=cpu_u + cpu\n",
    "\n",
    "        \n",
    "                \n",
    "#    print(limits - cpu_u)\n",
    "    return cpu_u\n",
    "\n",
    "\n",
    "cpuUtilised(\"cluster1-cntx\",\"encrypt\"+'s')"
   ]
  },
  {
   "cell_type": "code",
   "execution_count": 56,
   "metadata": {},
   "outputs": [
    {
     "data": {
      "text/plain": [
       "0.4"
      ]
     },
     "execution_count": 56,
     "metadata": {},
     "output_type": "execute_result"
    }
   ],
   "source": [
    "import os\n",
    "def getchar(string, n):\n",
    "    return str(string)[n - 1]\n",
    "def cpuUtilised(cluster, app_name):\n",
    "    output = os.popen('kubectl top pod --context=' + cluster).read()\n",
    "    lines = output.split(\"\\n\")\n",
    "    which_app = len(app_name)\n",
    "    cpu = ''\n",
    "    cpu_u=0\n",
    "    limits = 0\n",
    "    #limits=0\n",
    "    for line in lines[:-1]:\n",
    "        items = line.split()\n",
    "        if items[0][:which_app] == app_name:\n",
    "            if getchar(items[0], which_app) == 's':\n",
    "                limits = 100\n",
    "                cpu = items[1]\n",
    "                cpu = cpu[:-1]\n",
    "                cpu = int(cpu)\n",
    "                cpu_u=cpu_u + cpu\n",
    "        \n",
    "            if getchar(items[0], which_app) == 'm':\n",
    "                limits = 200\n",
    "                cpu = items[1]\n",
    "                cpu = cpu[:-1]\n",
    "                cpu = int(cpu)\n",
    "                cpu_u=cpu_u + cpu\n",
    "            if getchar(items[0], which_app) == 'l':\n",
    "                limits = 500\n",
    "                cpu = items[1]\n",
    "                cpu = cpu[:-1]\n",
    "                cpu = int(cpu)\n",
    "                cpu_u=cpu_u + cpu\n",
    "\n",
    "        \n",
    "    cpu_u = cpu_u/limits            \n",
    "#    print(limits - cpu_u)\n",
    "    return cpu_u\n",
    "\n",
    "\n",
    "cpuUtilised(\"cluster2-cntx\",\"encrypts\")"
   ]
  },
  {
   "cell_type": "code",
   "execution_count": 57,
   "metadata": {},
   "outputs": [
    {
     "data": {
      "text/plain": [
       "5898"
      ]
     },
     "execution_count": 57,
     "metadata": {},
     "output_type": "execute_result"
    }
   ],
   "source": [
    "#The available CPU of a microservice running on a cluster\n",
    "import os\n",
    "def getchar(string, n):\n",
    "    return str(string)[n - 1]\n",
    "def cpuAvail(cluster, app_name):\n",
    "    output = os.popen('kubectl top pod --context=' + cluster).read()\n",
    "    lines = output.split(\"\\n\")\n",
    "    which_app = len(app_name)\n",
    "    cpu = ''\n",
    "    cpu_u=0\n",
    "    limits=0\n",
    "    for line in lines[:-1]:\n",
    "        items = line.split()\n",
    "        if items[0][:which_app] == app_name:\n",
    "            if getchar(items[0], which_app) == 's':\n",
    "                limits = 600\n",
    "                cpu = items[1]\n",
    "                cpu = cpu[:-1]\n",
    "                cpu = int(cpu)\n",
    "                cpu_u=cpu_u + cpu\n",
    "            if getchar(items[0], which_app) == 'm':\n",
    "                limits = 5*600\n",
    "                cpu = items[1]\n",
    "                cpu = cpu[:-1]\n",
    "                cpu = int(cpu)\n",
    "                cpu_u=cpu_u + cpu\n",
    "            if getchar(items[0], which_app) == 'l':\n",
    "                limits = 10*600\n",
    "                cpu = items[1]\n",
    "                cpu = cpu[:-1]\n",
    "                cpu = int(cpu)\n",
    "                cpu_u=cpu_u + cpu\n",
    "\n",
    "        \n",
    "                \n",
    "#    print(limits - cpu_u)\n",
    "    return limits - cpu_u\n",
    "\n",
    "\n",
    "cpuAvail(\"cluster1-cntx\",\"firewall\")"
   ]
  },
  {
   "cell_type": "code",
   "execution_count": 58,
   "metadata": {},
   "outputs": [
    {
     "data": {
      "text/plain": [
       "['s']"
      ]
     },
     "execution_count": 58,
     "metadata": {},
     "output_type": "execute_result"
    }
   ],
   "source": [
    "#Which microservice configuration is running: small, medium, or large\n",
    "def getchar(string, n):\n",
    "    return str(string)[n - 1]\n",
    "def whichConf(i, app_name):\n",
    "    size = []\n",
    "    output = os.popen('sudo kubectl get services --context=' + i).read()\n",
    "    lines = output.split(\"\\n\")\n",
    "    which_app = len(app_name)\n",
    "    for line in lines[:-1]:\n",
    "        items = line.split()\n",
    "        if items[0][:which_app] == app_name:\n",
    "            size.append(getchar(items[0], which_app+1))\n",
    "    #        print(size)\n",
    "    return size\n",
    "whichConf(\"cluster1-cntx\", \"firewall\")"
   ]
  },
  {
   "cell_type": "code",
   "execution_count": null,
   "metadata": {},
   "outputs": [],
   "source": []
  },
  {
   "cell_type": "code",
   "execution_count": 59,
   "metadata": {},
   "outputs": [
    {
     "data": {
      "image/png": "[encoded data removed]",
      "text/plain": [
       "<Figure size 432x288 with 2 Axes>"
      ]
     },
     "metadata": {
      "needs_background": "light"
     },
     "output_type": "display_data"
    }
   ],
   "source": [
    "import matplotlib.pyplot as plt\n",
    "import numpy as np\n",
    "\n",
    "labels=[]\n",
    "firewall=[]\n",
    "cpu_firewall=[]\n",
    "encrypt=[]\n",
    "cpu_encrypt=[]\n",
    "decrypt=[]\n",
    "cpu_decrypt=[]\n",
    "\n",
    "for c in range(len(G)):\n",
    "    label= list(G.keys())[c]\n",
    "    labels.append(label)\n",
    "    for fu in range(len(bf)):\n",
    "        f= list(bf.keys())[fu]\n",
    "        if f == \"firewall\":\n",
    "            firewall.append( runningPods(label,f))\n",
    "            for d in range(len(whichConf(label, f))):\n",
    "                cpu_firewall.append(cpuUtilised(label, f+whichConf(label, f)[0]))\n",
    "            if len(whichConf(label, f)) == 0:\n",
    "                   cpu_firewall.append(0)                  \n",
    "        if f == \"encrypt\":\n",
    "            encrypt.append( runningPods(label,f))\n",
    "            for d in range(len(whichConf(label, f))):\n",
    "                cpu_encrypt.append(cpuUtilised(label, f+whichConf(label, f)[0]))\n",
    "            if len(whichConf(label, f)) == 0:\n",
    "                   cpu_encrypt.append(0)\n",
    "        if f == \"decrypt\":\n",
    "            decrypt.append( runningPods(label,f))\n",
    "            for d in range(len(whichConf(label, f))):\n",
    "                cpu_decrypt.append(cpuUtilised(label, f+whichConf(label, f)[0])) \n",
    "            if len(whichConf(label, f)) == 0:\n",
    "                   cpu_decrypt.append(0)\n",
    "\n",
    "\n",
    "x = np.arange(len(labels))  # the label locations\n",
    "width = 0.2  # the width of the bars\n",
    "#fig, (ax, ax2) = plt.subplots(1,1) \n",
    "fig, ax = plt.subplots()\n",
    "ax2 = ax.twinx()\n",
    "\n",
    "plt.bar(x - 0.2, firewall, width, color=\"blueviolet\", label='firewall')\n",
    "plt.bar(x - 0.2, cpu_firewall, width, label='firewall cpu use')\n",
    "plt.bar(x , encrypt, width, label='encrypt')\n",
    "plt.bar(x , cpu_encrypt, width, label='encrypt cpu use')\n",
    "plt.bar(x + 0.2, decrypt, width, label='decrypt')\n",
    "plt.bar(x + 0.2, cpu_decrypt, width, label='decrypt cpu use')\n",
    "# Add some text for labels, title and custom x-axis tick labels, etc.\n",
    "ax.set_ylabel('Number of pods')\n",
    "#ax.set_title('Scores by group and gender')\n",
    "plt.xticks(x, labels)\n",
    "ax2.set_ylabel('CPU utilisation ratio')\n",
    "#ax2.set_ylim(0, 1.5)\n",
    "plt.legend()\n",
    "ax2.plot([],[])\n",
    "\n",
    "#fig.tight_layout()\n",
    "\n",
    "plt.show()"
   ]
  },
  {
   "cell_type": "code",
   "execution_count": null,
   "metadata": {},
   "outputs": [],
   "source": []
  },
  {
   "cell_type": "code",
   "execution_count": null,
   "metadata": {},
   "outputs": [],
   "source": []
  }
 ],
 "metadata": {
  "kernelspec": {
   "display_name": "Python 3",
   "language": "python",
   "name": "python3"
  },
  "language_info": {
   "codemirror_mode": {
    "name": "ipython",
    "version": 3
   },
   "file_extension": ".py",
   "mimetype": "text/x-python",
   "name": "python",
   "nbconvert_exporter": "python",
   "pygments_lexer": "ipython3",
   "version": "3.6.9"
  }
 },
 "nbformat": 4,
 "nbformat_minor": 2
}
